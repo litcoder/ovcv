{
 "cells": [
  {
   "attachments": {},
   "cell_type": "markdown",
   "id": "406c9c1e-d770-4b9c-8cf6-fec13aee6e25",
   "metadata": {},
   "source": [
    "# PyTube Basics"
   ]
  },
  {
   "attachments": {},
   "cell_type": "markdown",
   "id": "6e6633d1-e32e-4290-8718-e0085b62bd7f",
   "metadata": {
    "tags": []
   },
   "source": [
    "[pytube](https://pytube.io/en/latest/)는 YouTube 클립을 다운로드 하는 기능을 제공하는 라이브러리 입니다."
   ]
  },
  {
   "attachments": {},
   "cell_type": "markdown",
   "id": "bb8ad5ab-26cb-4a97-ad18-d582d00b8163",
   "metadata": {},
   "source": [
    "## Install\n",
    "```bash\n",
    "$ pip install pytube\n",
    "```"
   ]
  },
  {
   "cell_type": "code",
   "execution_count": null,
   "id": "9bde8078",
   "metadata": {},
   "outputs": [],
   "source": [
    "! pip install pytube"
   ]
  },
  {
   "cell_type": "code",
   "execution_count": 16,
   "id": "ec057cf0-d562-499a-be6c-7bf8cbe843af",
   "metadata": {
    "tags": []
   },
   "outputs": [],
   "source": [
    "from pytube import YouTube"
   ]
  },
  {
   "attachments": {},
   "cell_type": "markdown",
   "id": "cb52dab5-ffbc-435c-892c-ca74c03f819f",
   "metadata": {},
   "source": [
    "URL로 부터 YouTube객체를 생성하고 원하는 stream을 선택해서 다운로드 합니다."
   ]
  },
  {
   "cell_type": "code",
   "execution_count": null,
   "id": "e1ba503e-03bf-4431-8ae3-0c678c547736",
   "metadata": {
    "tags": []
   },
   "outputs": [],
   "source": [
    "# I AM\n",
    "URL='https://www.youtube.com/watch?v=6ZUIwj3FgUY'\n",
    "# Unforgiven\n",
    "#URL='https://www.youtube.com/watch?v=wIBZ7UcQmDU'\n",
    "streams = YouTube(URL).streams\n",
    "for stream in streams:\n",
    "    print(stream)"
   ]
  },
  {
   "attachments": {},
   "cell_type": "markdown",
   "id": "fc7caede-e3d0-4f13-b399-2e55e725a4a9",
   "metadata": {},
   "source": [
    "여러개의 stream중 progressive방식의 mp4 format을 사용하겠습니다."
   ]
  },
  {
   "cell_type": "code",
   "execution_count": null,
   "id": "bac49c8b-d498-4d4c-ba2e-3b5c0a5ccf1a",
   "metadata": {
    "tags": []
   },
   "outputs": [],
   "source": [
    "filteredStreams = streams.filter(progressive=True, file_extension='mp4')\n",
    "print('Progressive MP4 streams are {}/{}.'.format(len(filteredStreams), len(streams)))\n",
    "for stream in filteredStreams:\n",
    "    print(stream)"
   ]
  },
  {
   "attachments": {},
   "cell_type": "markdown",
   "id": "5e08f4ae-ecd3-4975-ab49-859bff7faa45",
   "metadata": {},
   "source": [
    "원하는 stream을 선택하고 다운로드 합니다."
   ]
  },
  {
   "cell_type": "code",
   "execution_count": null,
   "id": "08574ec8-4eca-47a6-9706-e1b64de81528",
   "metadata": {
    "tags": []
   },
   "outputs": [],
   "source": [
    "filteredStreams.get_by_itag('22').download()"
   ]
  }
 ],
 "metadata": {
  "kernelspec": {
   "display_name": "Python 3 (ipykernel)",
   "language": "python",
   "name": "python3"
  },
  "language_info": {
   "codemirror_mode": {
    "name": "ipython",
    "version": 3
   },
   "file_extension": ".py",
   "mimetype": "text/x-python",
   "name": "python",
   "nbconvert_exporter": "python",
   "pygments_lexer": "ipython3",
   "version": "3.10.9"
  }
 },
 "nbformat": 4,
 "nbformat_minor": 5
}
