{
 "cells": [
  {
   "cell_type": "markdown",
   "id": "291dc37b",
   "metadata": {},
   "source": [
    "# Hello Image Classification\n",
    "\n",
    "This basic introduction to OpenVINO™ shows how to do inference with an image classification model.\n",
    "\n",
    "A pre-trained [MobileNetV3 model](https://docs.openvino.ai/latest/omz_models_model_mobilenet_v3_small_1_0_224_tf.html) from [Open Model Zoo](https://github.com/openvinotoolkit/open_model_zoo/) is used in this tutorial. For more information about how OpenVINO IR models are created, refer to the [TensorFlow to OpenVINO](../101-tensorflow-to-openvino/101-tensorflow-to-openvino.ipynb) tutorial."
   ]
  },
  {
   "cell_type": "markdown",
   "id": "e4c8cbe5",
   "metadata": {},
   "source": [
    "## Imports"
   ]
  },
  {
   "cell_type": "code",
   "execution_count": null,
   "id": "b8aa983a-96af-4616-af8a-cd276b065552",
   "metadata": {
    "tags": []
   },
   "outputs": [],
   "source": [
    "import cv2\n",
    "import matplotlib.pyplot as plt\n",
    "import numpy as np\n",
    "from openvino.runtime import Core"
   ]
  },
  {
   "cell_type": "markdown",
   "id": "55e49ae7",
   "metadata": {},
   "source": [
    "## Load the Model"
   ]
  },
  {
   "cell_type": "code",
   "execution_count": null,
   "id": "cf800fd8-451b-4fef-9dd9-d2f7476eb7ca",
   "metadata": {
    "tags": []
   },
   "outputs": [],
   "source": [
    "ie = Core()\n",
    "\n",
    "# Available devices\n",
    "print(\"Available devices: \", ie.available_devices)"
   ]
  },
  {
   "cell_type": "code",
   "execution_count": null,
   "id": "b1faf743-e68e-4ace-916a-ea9a4b2bea1e",
   "metadata": {
    "tags": []
   },
   "outputs": [],
   "source": [
    "model = ie.read_model(model=\"model/v3-small_224_1.0_float.xml\")\n",
    "compiled_model = ie.compile_model(model=model, device_name=\"CPU\")\n",
    "\n",
    "output_layer = compiled_model.output(0)"
   ]
  },
  {
   "cell_type": "markdown",
   "id": "a19fc080",
   "metadata": {},
   "source": [
    "## Load an Image"
   ]
  },
  {
   "cell_type": "code",
   "execution_count": null,
   "id": "eca45b68",
   "metadata": {
    "tags": []
   },
   "outputs": [],
   "source": [
    "# The MobileNet model expects images in RGB format.\n",
    "imagFileName=\"../data/fish2.jpg\"\n",
    "image = cv2.cvtColor(cv2.imread(filename=imagFileName), code=cv2.COLOR_BGR2RGB)\n",
    "\n",
    "# Resize to MobileNet image shape.\n",
    "input_image = cv2.resize(src=image, dsize=(224, 224))\n",
    "\n",
    "# Reshape to model input shape.\n",
    "input_image = np.expand_dims(input_image, 0)\n",
    "plt.imshow(image);"
   ]
  },
  {
   "cell_type": "markdown",
   "id": "6be327b6",
   "metadata": {},
   "source": [
    "## Do Inference"
   ]
  },
  {
   "cell_type": "code",
   "execution_count": null,
   "id": "1ed78a71",
   "metadata": {
    "tags": []
   },
   "outputs": [],
   "source": [
    "result_infer = compiled_model([input_image])[output_layer]\n",
    "#result_index = np.argmax(result_infer)"
   ]
  },
  {
   "cell_type": "code",
   "execution_count": null,
   "id": "92679405-93a7-4d70-9d4a-8805877ba672",
   "metadata": {
    "tags": []
   },
   "outputs": [],
   "source": [
    "result_index = np.flip(np.argpartition(result_infer[0], -4)[-4:])\n",
    "\n",
    "print(result_index)\n",
    "print(result_infer[0][result_index])\n"
   ]
  },
  {
   "cell_type": "code",
   "execution_count": null,
   "id": "bf29578c",
   "metadata": {
    "tags": []
   },
   "outputs": [],
   "source": [
    "# Convert the inference result to a class name.\n",
    "imagenet_classes = open(\"../imagenet/imagenet_2012_ko.txt\", encoding=\"utf-8\").read().splitlines()\n",
    "\n",
    "# The model description states that for this model, class 0 is a background.\n",
    "# Therefore, a background must be added at the beginning of imagenet_classes.\n",
    "imagenet_classes = ['background'] + imagenet_classes\n",
    "imagenet_classes[result_index[0]]\n",
    "for idx in result_index:\n",
    "    print(\"{} {} - {}\".format(idx, imagenet_classes[idx], result_infer[0][idx]))"
   ]
  }
 ],
 "metadata": {
  "interpreter": {
   "hash": "cd5437b16fd5f67deabdf7e7132d444cc39310b7a33353e3b68dab8f7e829ac5"
  },
  "kernelspec": {
   "display_name": "Python 3 (ipykernel)",
   "language": "python",
   "name": "python3"
  },
  "language_info": {
   "codemirror_mode": {
    "name": "ipython",
    "version": 3
   },
   "file_extension": ".py",
   "mimetype": "text/x-python",
   "name": "python",
   "nbconvert_exporter": "python",
   "pygments_lexer": "ipython3",
   "version": "3.9.13"
  }
 },
 "nbformat": 4,
 "nbformat_minor": 5
}
