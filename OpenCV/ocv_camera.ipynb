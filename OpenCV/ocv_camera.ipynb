{
 "cells": [
  {
   "cell_type": "markdown",
   "id": "3b344ddb-0d2f-429a-9c7e-0e123df38d1e",
   "metadata": {},
   "source": [
    "# OpenCV Camera Read & Write"
   ]
  },
  {
   "cell_type": "markdown",
   "id": "cb050cf5-59ad-4de8-846b-2d07974f349f",
   "metadata": {},
   "source": [
    "OpenCV로 카메라 장치로 부터 읽어들여서 화면에 표시하고 파일에 저장하는 예제입니다."
   ]
  },
  {
   "cell_type": "code",
   "execution_count": 1,
   "id": "6c9b17c0-9bf6-4486-98b4-c4f9efce5407",
   "metadata": {
    "tags": []
   },
   "outputs": [],
   "source": [
    "import cv2\n",
    "import numpy as np"
   ]
  },
  {
   "cell_type": "markdown",
   "id": "1fe51c28-d4fe-4cf9-a6ac-33c403331062",
   "metadata": {},
   "source": [
    "시스템에 연결된 Capture device(camera)를 초기화 합니다."
   ]
  },
  {
   "cell_type": "code",
   "execution_count": 2,
   "id": "b76fc58f-d361-44c7-9ac5-3ab1331b5a16",
   "metadata": {
    "tags": []
   },
   "outputs": [],
   "source": [
    "# Camera\n",
    "cap = cv2.VideoCapture(0)"
   ]
  },
  {
   "cell_type": "markdown",
   "id": "922136e8-b9fc-4cdc-b3c1-04fb7250adec",
   "metadata": {},
   "source": [
    "출력을 비디오로 인코딩하기 위해 FourCC(Fource Character Code)를 XVID로 설정하고 VideoWriter를 만듭니다."
   ]
  },
  {
   "cell_type": "code",
   "execution_count": 3,
   "id": "93dacf2e-5e46-426b-9308-60243411512c",
   "metadata": {
    "tags": []
   },
   "outputs": [],
   "source": [
    "fourcc = cv2.VideoWriter_fourcc(*'XVID')\n",
    "out = cv2.VideoWriter('output.mp4', fourcc, 20.0, (640, 480))"
   ]
  },
  {
   "cell_type": "code",
   "execution_count": 4,
   "id": "576e5d26-6f9d-418e-9a76-7e13e084955e",
   "metadata": {
    "tags": []
   },
   "outputs": [],
   "source": [
    "while cap.isOpened():\n",
    "    ret, frame = cap.read()\n",
    "    if not ret:\n",
    "        print(\"Can't receive frame (stream end?). Exiting ...\")\n",
    "        break\n",
    "        \n",
    "    # Flip the frame\n",
    "    # 0 - X-axis flip\n",
    "    # 1 - Y-axis\n",
    "    # -1 - Both axis\n",
    "    frame = cv2.flip(frame, 1)\n",
    "    \n",
    "    # Save it\n",
    "    out.write(frame)\n",
    "    \n",
    "    # Display the frame\n",
    "    cv2.imshow('Camera', frame)\n",
    "    if cv2.waitKey(1) == ord('q'):\n",
    "        break"
   ]
  },
  {
   "cell_type": "markdown",
   "id": "284a953a-ba71-4a53-85b8-cb8fe98fab4c",
   "metadata": {},
   "source": [
    "사용한 자원을 해제하고 종료합니다."
   ]
  },
  {
   "cell_type": "code",
   "execution_count": 5,
   "id": "e6f19fe0-020a-4e72-847c-dc806b78dc18",
   "metadata": {
    "tags": []
   },
   "outputs": [],
   "source": [
    "cap.release()\n",
    "out.release()\n",
    "cv2.destroyAllWindows()"
   ]
  }
 ],
 "metadata": {
  "kernelspec": {
   "display_name": "Python 3 (ipykernel)",
   "language": "python",
   "name": "python3"
  },
  "language_info": {
   "codemirror_mode": {
    "name": "ipython",
    "version": 3
   },
   "file_extension": ".py",
   "mimetype": "text/x-python",
   "name": "python",
   "nbconvert_exporter": "python",
   "pygments_lexer": "ipython3",
   "version": "3.10.9"
  }
 },
 "nbformat": 4,
 "nbformat_minor": 5
}
