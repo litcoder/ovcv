{
 "cells": [
  {
   "cell_type": "markdown",
   "id": "9ea11ee3-b82c-42b6-8c2a-b387cc1fff79",
   "metadata": {},
   "source": [
    "# OpenCV Image Modification"
   ]
  },
  {
   "cell_type": "markdown",
   "id": "3db1bc12-3582-4f79-859a-c24d0498b196",
   "metadata": {},
   "source": [
    "OpenCV로 이미지를 변경하는 예제입니다."
   ]
  },
  {
   "cell_type": "code",
   "execution_count": null,
   "id": "7aabd857-69fd-45f0-87ff-961d5eba4d7e",
   "metadata": {
    "tags": []
   },
   "outputs": [],
   "source": [
    "import cv2\n",
    "import numpy as np"
   ]
  },
  {
   "cell_type": "markdown",
   "id": "83efdd78-dfee-44d2-85bb-8d0f30b7de35",
   "metadata": {},
   "source": [
    "주어진 경로에서 이미지 파일을 읽어들여 복사합니다."
   ]
  },
  {
   "cell_type": "code",
   "execution_count": null,
   "id": "f913e88f-7a6c-4688-a21a-806ceb2594cb",
   "metadata": {
    "tags": []
   },
   "outputs": [],
   "source": [
    "orgImg = cv2.imread('../data/IU.jpg')\n",
    "redBoxImg = np.copy(orgImg)\n",
    "pastedImg = np.copy(orgImg)"
   ]
  },
  {
   "cell_type": "markdown",
   "id": "0283b1a5-d021-48c4-8113-18e217908b28",
   "metadata": {},
   "source": [
    "## Modify Pixel Values"
   ]
  },
  {
   "cell_type": "markdown",
   "id": "589e9bd0-2ab4-4a35-9755-6dfba8c6f5fb",
   "metadata": {},
   "source": [
    "50px X 50px의 빨간색 박스를 이미지의 (160, 270) 위치에 넣습니다. Image data는 Blue, Green, Red순서로 저장됩니다."
   ]
  },
  {
   "cell_type": "code",
   "execution_count": null,
   "id": "0ffaad10-d426-4b9e-b653-349df260e2fd",
   "metadata": {
    "tags": []
   },
   "outputs": [],
   "source": [
    "# H/W order, [from px:to px, from px:to px]\n",
    "redBoxImg[270:320, 160:210] = (0, 0, 255)"
   ]
  },
  {
   "cell_type": "markdown",
   "id": "4242bdd8-287e-4c3e-89f8-db030e620a29",
   "metadata": {
    "tags": []
   },
   "source": [
    "원본 이미지의 (150, 50) 부분을 200px X 200px 만큼을 crop해서 (10, 20)위치에 붙여 넣습니다."
   ]
  },
  {
   "cell_type": "code",
   "execution_count": null,
   "id": "b4adf06c-4db5-4db6-8365-9bf34a5ec986",
   "metadata": {
    "tags": []
   },
   "outputs": [],
   "source": [
    "# H/W order\n",
    "cropped = orgImg[50:250, 150:350]\n",
    "pastedImg[10:210, 10:210] = cropped"
   ]
  },
  {
   "cell_type": "markdown",
   "id": "b72c0969-5598-4485-b412-760ae20a584a",
   "metadata": {},
   "source": [
    "화면 출력"
   ]
  },
  {
   "cell_type": "code",
   "execution_count": null,
   "id": "81ef6c78-385d-4b0d-8960-64d05b6d97dc",
   "metadata": {
    "tags": []
   },
   "outputs": [],
   "source": [
    "cv2.imshow('Original', orgImg)\n",
    "cv2.imshow('Red box image', redBoxImg)\n",
    "cv2.imshow('Pasted image', pastedImg)\n",
    "cv2.waitKey(0)\n",
    "cv2.destroyAllWindows()"
   ]
  },
  {
   "cell_type": "markdown",
   "id": "d13a879a-2232-407f-a5bf-2b99b1c015f4",
   "metadata": {
    "tags": []
   },
   "source": [
    "## Split/Merge color channels"
   ]
  },
  {
   "cell_type": "markdown",
   "id": "de4c4154-9bbc-4804-ac68-facad93151e1",
   "metadata": {},
   "source": [
    "Blue/Green/Red 순서의 채널 색상값들을 분리합니다."
   ]
  },
  {
   "cell_type": "code",
   "execution_count": null,
   "id": "5054cab7-4ea2-4a24-8e5e-2aa9817983f8",
   "metadata": {
    "tags": []
   },
   "outputs": [],
   "source": [
    "# Split into channels.\n",
    "b, g, r = cv2.split(orgImg)\n",
    "print(b.shape)\n",
    "print(g.shape)\n",
    "print(r.shape)"
   ]
  },
  {
   "cell_type": "markdown",
   "id": "3561eb65-827b-4a55-aec6-7c866a5d84ad",
   "metadata": {},
   "source": [
    "merge()는 주어진 색상 채널들을 합성해 줍니다. 여기서는 색상 채널들의 순서를 바꿔서 시험해 보겠습니다."
   ]
  },
  {
   "cell_type": "code",
   "execution_count": null,
   "id": "06d5a191-1e27-4bfc-92be-114bc879e8aa",
   "metadata": {
    "tags": []
   },
   "outputs": [],
   "source": [
    "# Re-order, RGB\n",
    "rgbImage = cv2.merge((r, g, b))\n",
    "\n",
    "# Re-order, GRB\n",
    "grbImage = cv2.merge((g, r, b))"
   ]
  },
  {
   "cell_type": "markdown",
   "id": "7acec7b6-ff88-44e4-a8d4-c1ddb0578b48",
   "metadata": {},
   "source": [
    "화면 출력"
   ]
  },
  {
   "cell_type": "code",
   "execution_count": null,
   "id": "2f9b5434-f5d4-4a2c-9c65-588becbf9c15",
   "metadata": {
    "tags": []
   },
   "outputs": [],
   "source": [
    "cv2.imshow('Original', orgImg)\n",
    "cv2.imshow('RGB re-order', rgbImage)\n",
    "cv2.imshow('GRB re-order', grbImage)\n",
    "cv2.waitKey(0)\n",
    "cv2.destroyAllWindows()"
   ]
  },
  {
   "cell_type": "markdown",
   "id": "2c7be1f3-0d07-48e7-a0d9-8d7d788312e8",
   "metadata": {},
   "source": [
    "## Draw on top"
   ]
  },
  {
   "cell_type": "markdown",
   "id": "b413c335-7a11-4082-a18c-f3dd588e541a",
   "metadata": {},
   "source": [
    "이미지를 로드하고 그 위에 필요한 표시를 할 수 있습니다."
   ]
  },
  {
   "cell_type": "code",
   "execution_count": null,
   "id": "67f1e590-54ea-44ad-8897-73116ca4fd42",
   "metadata": {
    "tags": []
   },
   "outputs": [],
   "source": [
    "drawImage = np.copy(orgImg)\n",
    "print(drawImage.shape)"
   ]
  },
  {
   "cell_type": "code",
   "execution_count": null,
   "id": "fe663874-d559-4965-aa3b-b842a96bfc06",
   "metadata": {
    "tags": []
   },
   "outputs": [],
   "source": [
    "# H/W/C order\n",
    "h = drawImage.shape[0]\n",
    "w = drawImage.shape[1]\n",
    "\n",
    "topLeft = (0, 0)\n",
    "topRight = (w, 0)\n",
    "bottomLeft = (0, h)\n",
    "bottomRight = (w, h)"
   ]
  },
  {
   "cell_type": "code",
   "execution_count": null,
   "id": "7a7bd302-804b-4a81-8af4-34dd42d2040d",
   "metadata": {
    "tags": []
   },
   "outputs": [],
   "source": [
    "# 선 그리기\n",
    "cv2.line(drawImage, topLeft, bottomRight, (0, 255, 0), 5)\n",
    "cv2.line(drawImage, topRight, bottomLeft, (255, 0, 255), 2)"
   ]
  },
  {
   "cell_type": "code",
   "execution_count": null,
   "id": "a850c940-1eca-4f06-a3ce-2af2333774ee",
   "metadata": {
    "tags": []
   },
   "outputs": [],
   "source": [
    "# 사각형 그리기\n",
    "cv2.rectangle(drawImage, [pt+30 for pt in topLeft], [pt-30 for pt in bottomRight], (0, 0, 255), 5)"
   ]
  },
  {
   "cell_type": "code",
   "execution_count": null,
   "id": "4ed54f02-d1d7-4fa7-bae3-f58f4c5d0447",
   "metadata": {
    "tags": []
   },
   "outputs": [],
   "source": [
    "# 글씨 쓰기\n",
    "font = cv2.FONT_HERSHEY_SIMPLEX\n",
    "cv2.putText(drawImage, 'IU', [pt+80 for pt in topLeft], font, 2, (0, 255, 255), 10)"
   ]
  },
  {
   "cell_type": "code",
   "execution_count": null,
   "id": "08d3a6e2-7e0f-4fb7-afba-05cdd4d43893",
   "metadata": {
    "tags": []
   },
   "outputs": [],
   "source": [
    "cv2.imshow('Draw Image', drawImage)\n",
    "cv2.waitKey(0)\n",
    "cv2.destroyAllWindows()"
   ]
  }
 ],
 "metadata": {
  "kernelspec": {
   "display_name": "Python 3 (ipykernel)",
   "language": "python",
   "name": "python3"
  },
  "language_info": {
   "codemirror_mode": {
    "name": "ipython",
    "version": 3
   },
   "file_extension": ".py",
   "mimetype": "text/x-python",
   "name": "python",
   "nbconvert_exporter": "python",
   "pygments_lexer": "ipython3",
   "version": "3.9.13"
  }
 },
 "nbformat": 4,
 "nbformat_minor": 5
}
