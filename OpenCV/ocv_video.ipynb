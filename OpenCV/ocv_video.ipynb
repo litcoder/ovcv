{
 "cells": [
  {
   "cell_type": "markdown",
   "id": "3b344ddb-0d2f-429a-9c7e-0e123df38d1e",
   "metadata": {},
   "source": [
    "# OpenCV Video"
   ]
  },
  {
   "cell_type": "markdown",
   "id": "cb050cf5-59ad-4de8-846b-2d07974f349f",
   "metadata": {},
   "source": [
    "OpenCV로 비디오 파일을 읽어들여서 화면에 표시하고 파일에 저장하는 예제입니다."
   ]
  },
  {
   "cell_type": "code",
   "execution_count": null,
   "id": "6c9b17c0-9bf6-4486-98b4-c4f9efce5407",
   "metadata": {
    "tags": []
   },
   "outputs": [],
   "source": [
    "import time\n",
    "import cv2\n",
    "import numpy as np"
   ]
  },
  {
   "cell_type": "markdown",
   "id": "3ad99a18-a092-48ca-951e-e92d908ffa9f",
   "metadata": {},
   "source": [
    "비디오 파일을 읽습니다."
   ]
  },
  {
   "cell_type": "code",
   "execution_count": null,
   "id": "b76fc58f-d361-44c7-9ac5-3ab1331b5a16",
   "metadata": {
    "tags": []
   },
   "outputs": [],
   "source": [
    "# Video file\n",
    "video = cv2.VideoCapture('../data/I AM.mp4')"
   ]
  },
  {
   "cell_type": "code",
   "execution_count": null,
   "id": "576e5d26-6f9d-418e-9a76-7e13e084955e",
   "metadata": {
    "tags": []
   },
   "outputs": [],
   "source": [
    "while video.isOpened():\n",
    "    ret, frame = video.read()\n",
    "    if not ret:\n",
    "        print(\"Can't receive frame (stream end?). Exiting ...\")\n",
    "        break\n",
    "    \n",
    "    # Display the frame\n",
    "    cv2.imshow('Video', frame)\n",
    "    \n",
    "    # 매 초 마다 'q'가 눌렸는지 검사합니다.\n",
    "    if cv2.waitKey(1) == ord('q'):\n",
    "        break\n",
    "\n",
    "    # Quiz\n",
    "    # 1. Sleep은 왜 하는 걸까요?, 1/30은 무슨 의미 일까요?\n",
    "    # 2. Sleep을 사용하지 않으려면 어떻게 구현해야 할까요?\n",
    "    time.sleep(1/30)"
   ]
  },
  {
   "cell_type": "markdown",
   "id": "90756a8f-ef32-41ce-aacf-b9d39e6e1fc0",
   "metadata": {},
   "source": [
    "사용한 자원을 해제하고 종료합니다."
   ]
  },
  {
   "cell_type": "code",
   "execution_count": null,
   "id": "e6f19fe0-020a-4e72-847c-dc806b78dc18",
   "metadata": {
    "tags": []
   },
   "outputs": [],
   "source": [
    "video.release()\n",
    "cv2.destroyAllWindows()"
   ]
  }
 ],
 "metadata": {
  "kernelspec": {
   "display_name": "Python 3 (ipykernel)",
   "language": "python",
   "name": "python3"
  },
  "language_info": {
   "codemirror_mode": {
    "name": "ipython",
    "version": 3
   },
   "file_extension": ".py",
   "mimetype": "text/x-python",
   "name": "python",
   "nbconvert_exporter": "python",
   "pygments_lexer": "ipython3",
   "version": "3.9.13"
  }
 },
 "nbformat": 4,
 "nbformat_minor": 5
}
