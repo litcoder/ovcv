{
 "cells": [
  {
   "cell_type": "markdown",
   "id": "9ea11ee3-b82c-42b6-8c2a-b387cc1fff79",
   "metadata": {},
   "source": [
    "# OpenCV Image Read & Write"
   ]
  },
  {
   "cell_type": "markdown",
   "id": "3db1bc12-3582-4f79-859a-c24d0498b196",
   "metadata": {},
   "source": [
    "OpenCV로 이미지를 읽어들여서 화면에 표시하고 파일에 저장하는 예제입니다."
   ]
  },
  {
   "cell_type": "code",
   "execution_count": null,
   "id": "7aabd857-69fd-45f0-87ff-961d5eba4d7e",
   "metadata": {
    "tags": []
   },
   "outputs": [],
   "source": [
    "import cv2"
   ]
  },
  {
   "cell_type": "markdown",
   "id": "83efdd78-dfee-44d2-85bb-8d0f30b7de35",
   "metadata": {},
   "source": [
    "주어진 경로에서 이미지 파일을 읽어 들입니다. 이미지는 Numpy ndarray (W/H/C) 형태로 반환 됩니다."
   ]
  },
  {
   "cell_type": "code",
   "execution_count": null,
   "id": "f913e88f-7a6c-4688-a21a-806ceb2594cb",
   "metadata": {
    "tags": []
   },
   "outputs": [],
   "source": [
    "img = cv2.imread('../data/IU.jpg')\n",
    "print(type(img))\n",
    "print(img.shape)"
   ]
  },
  {
   "cell_type": "markdown",
   "id": "589e9bd0-2ab4-4a35-9755-6dfba8c6f5fb",
   "metadata": {},
   "source": [
    "이미지를 화면에 출력합니다.<br/>주의: `cv2.waitKey()` 호출이 이어지거나 별도의 Window thread를 만들지 않으면 화면이 표시되지 않습니다."
   ]
  },
  {
   "cell_type": "code",
   "execution_count": null,
   "id": "0ffaad10-d426-4b9e-b653-349df260e2fd",
   "metadata": {
    "tags": []
   },
   "outputs": [],
   "source": [
    "cv2.imshow('Window TITLE', img)\n",
    "cv2.waitKey(0)"
   ]
  },
  {
   "cell_type": "markdown",
   "id": "538927fe-8ba3-4eb6-94e5-cb03d574ac6b",
   "metadata": {},
   "source": [
    "모든 윈도우를 닫습니다."
   ]
  },
  {
   "cell_type": "code",
   "execution_count": null,
   "id": "48baa2c4-282f-434f-9ffc-397f8debef8b",
   "metadata": {
    "tags": []
   },
   "outputs": [],
   "source": [
    "cv2.destroyAllWindows()"
   ]
  },
  {
   "cell_type": "markdown",
   "id": "a10910a8-1e28-46b6-84fd-9222e1b4f241",
   "metadata": {},
   "source": [
    "읽어들인 이미지를 파일에 저장할 수도 있습니다."
   ]
  },
  {
   "cell_type": "code",
   "execution_count": null,
   "id": "6c7b3018-172d-4f77-8007-1b2454785af4",
   "metadata": {
    "tags": []
   },
   "outputs": [],
   "source": [
    "cv2.imwrite('output.png', img)"
   ]
  }
 ],
 "metadata": {
  "kernelspec": {
   "display_name": "Python 3 (ipykernel)",
   "language": "python",
   "name": "python3"
  },
  "language_info": {
   "codemirror_mode": {
    "name": "ipython",
    "version": 3
   },
   "file_extension": ".py",
   "mimetype": "text/x-python",
   "name": "python",
   "nbconvert_exporter": "python",
   "pygments_lexer": "ipython3",
   "version": "3.9.13"
  }
 },
 "nbformat": 4,
 "nbformat_minor": 5
}
